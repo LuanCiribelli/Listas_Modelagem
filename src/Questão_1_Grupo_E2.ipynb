{
  "nbformat": 4,
  "nbformat_minor": 0,
  "metadata": {
    "colab": {
      "name": "Questão 1 - Grupo -E2.ipynb",
      "provenance": [],
      "collapsed_sections": [],
      "include_colab_link": true
    },
    "kernelspec": {
      "name": "python3",
      "display_name": "Python 3"
    }
  },
  "cells": [
    {
      "cell_type": "markdown",
      "metadata": {
        "id": "view-in-github",
        "colab_type": "text"
      },
      "source": [
        "<a href=\"https://colab.research.google.com/github/LuanCiribelli/LIstas_Modelagem/blob/main/Quest%C3%A3o_1_Grupo_E2.ipynb\" target=\"_parent\"><img src=\"https://colab.research.google.com/assets/colab-badge.svg\" alt=\"Open In Colab\"/></a>"
      ]
    },
    {
      "cell_type": "markdown",
      "metadata": {
        "id": "vgI_swwPVQVJ"
      },
      "source": [
        "# Trabalho de Modelagem - Questão 1  - Luan Reis Ciribelli- Grupo E2\n"
      ]
    },
    {
      "cell_type": "markdown",
      "metadata": {
        "id": "jyXwU1XIioGW"
      },
      "source": [
        "Use o método de Montecarlo para determinar o volume da interseção entre os paraboloides z = 8 − x² − y²\n",
        "e  z = x² + 3y².\n",
        " Observe que os dois paraboloides se interceptam no cilindro elıptico x² + 2y² = 4. \n",
        " \n",
        "Realize o experimento mais de uma vez de modo a apresentar um resultado medio acompanhado do desvio padrão.\n",
        "Avalie o comportamento valor calculado para o volume ao variar a quantidade de\n",
        "pontos usada no método de Montecarlo.\n"
      ]
    },
    {
      "cell_type": "markdown",
      "metadata": {
        "id": "23-9U9u4ndQt"
      },
      "source": [
        "$$\n",
        "\\int_0^1 \\int_2^2 (x^2+ 2y^2 - 4 )\\, dx  \\,dy= 0\n",
        "$$"
      ]
    },
    {
      "cell_type": "markdown",
      "metadata": {
        "id": "xXl2uMiAIpCJ"
      },
      "source": [
        "## Importações:"
      ]
    },
    {
      "cell_type": "code",
      "metadata": {
        "id": "NytcshZTVQi3"
      },
      "source": [
        "import numpy as np\n",
        "import pylab as pl\n",
        "import sympy  as sp\n",
        "import math as mt\n",
        "sp.init_printing()"
      ],
      "execution_count": null,
      "outputs": []
    },
    {
      "cell_type": "markdown",
      "metadata": {
        "id": "EDqIuvU2IjrW"
      },
      "source": [
        "##Código:\n"
      ]
    },
    {
      "cell_type": "code",
      "metadata": {
        "id": "g_JvgeeUGxzw"
      },
      "source": [
        "## Função que define o limite superior do volume \n",
        "def fun(x,y):\n",
        "  z= 8 - (x**2) - (y**2)\n",
        "  return z"
      ],
      "execution_count": null,
      "outputs": []
    },
    {
      "cell_type": "code",
      "metadata": {
        "id": "EtHJxwU3IyKo"
      },
      "source": [
        "resultados = []\n",
        "resultado = []\n",
        "n=10\n",
        "numero_de_pontos = [100, 500, 1000, 5000, 10000, 50000, 100000, 500000]\n",
        "## Monte Carlo para 8 valores distintos (emulando os pontos escolhidos na demonstração do professor)\n",
        "for N0 in numero_de_pontos:  \n",
        "  for numeroDeRodadas in range(0,n):\n",
        "    k=0\n",
        "    a,b =-2, 2\n",
        "    c,d = -mt.sqrt(2),mt.sqrt(2)\n",
        "    M = 4.38\n",
        "    for i in range(N0):\n",
        "        x=np.random.uniform(low=a, high=b, size=1)\n",
        "        y=np.random.uniform(low=c, high=d, size=1)\n",
        "        z=np.random.uniform(low=0, high=M, size=1)\n",
        "        if z<fun(x,y):\n",
        "            k+=1.\n",
        "    I2 = M*(d-c)*(b-a)*(k/N0)\n",
        "    resultado.append(I2)\n",
        "  resultados.append(resultado)\n",
        "  resultado = []      "
      ],
      "execution_count": null,
      "outputs": []
    },
    {
      "cell_type": "code",
      "metadata": {
        "id": "PrmFK4gRG4XG"
      },
      "source": [
        "#Calculando Media\n",
        "somatorio = [] #Vetor que recebe o somatório\n",
        "soma = 0 \n",
        "for i in range(0,8):\n",
        "  for j in range(0,n):\n",
        "    soma += resultados[i][j] #Calculando a soma  \n",
        "  somatorio.append(soma) #Colocando a soma no vetor\n",
        "  soma = 0\n",
        "\n",
        "media = []\n",
        "quantidade = n\n",
        "for i in range(8):\n",
        "  x = somatorio[i]/quantidade #Calculo da média de forma simples\n",
        "  media.append(x) #Colocando a média no vetor"
      ],
      "execution_count": null,
      "outputs": []
    },
    {
      "cell_type": "code",
      "metadata": {
        "id": "O808LwY4kS4D"
      },
      "source": [
        "# Calculando Erro\n",
        "# erro= <f²> - <f>² = variancia menos media ao quadrado\n",
        "\n",
        "#então <f²> =\n",
        "auxVariancia = 0\n",
        "variancia=[]\n",
        "for i in range(0,8):\n",
        "  for j in range(0,n):\n",
        "    auxVariancia += resultados[i][j]**2 #Calculando a soma  \n",
        "  variancia.append(auxVariancia)\n",
        "  auxVariancia = 0\n",
        "# E media ao quadrado =\n",
        "media_quadrado= []\n",
        "for w in range(len(media)):\n",
        "  media_quadrado.append(media[w]**2)  \n",
        "\n",
        "#Logo, erro = \n",
        "erro = []\n",
        "for  e in range(len(variancia)):\n",
        "  erro.append(-media_quadrado[e]+variancia[e]/n)"
      ],
      "execution_count": null,
      "outputs": []
    },
    {
      "cell_type": "markdown",
      "metadata": {
        "id": "l7QgVApEEWOO"
      },
      "source": [
        "## Resultados Experimentas\n"
      ]
    },
    {
      "cell_type": "markdown",
      "metadata": {
        "id": "Mu4GG6XHloNr"
      },
      "source": [
        "| Numero de Pontos\t| Média \t| Desvio Padrão \t|\n",
        "|:---------:\t|:-----:\t|:-------------:\t|\n",
        "|     100     \t|     48.66207  \t|     0.333962          \t|\n",
        "|     500     \t|      48.53323 \t|        0.08457       \t|\n",
        "|     1000     \t|    48.47872   \t|       0.02703        \t|\n",
        "|     5000     \t|     48.41727  \t|         0.00666      \t|\n",
        "|     10000     \t|      48.44750 \t|          0.00169     \t|\n",
        "|     50000     \t|   48.43343    \t|        0.00051       \t|\n",
        "|     100000     \t|     48.44249  \t|         0.00046      \t|\n",
        "|     500000     \t|     48.44363  \t|            3.14081e-05 \t|\n"
      ]
    },
    {
      "cell_type": "code",
      "metadata": {
        "id": "urmD4VMupMhE"
      },
      "source": [
        ""
      ],
      "execution_count": null,
      "outputs": []
    }
  ]
}